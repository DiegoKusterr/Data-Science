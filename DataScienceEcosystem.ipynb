{
 "cells": [
  {
   "cell_type": "markdown",
   "metadata": {},
   "source": [
    "<center>\n",
    "    <img src=\"https://cf-courses-data.s3.us.cloud-object-storage.appdomain.cloud/IBMDeveloperSkillsNetwork-DS0105EN-SkillsNetwork/labs/Module2/images/SN_web_lightmode.png\" width=\"300\" alt=\"cognitiveclass.ai logo\">\n",
    "</center>\n"
   ]
  },
  {
   "cell_type": "markdown",
   "metadata": {},
   "source": [
    "# Data Science Tools and Ecosystem"
   ]
  },
  {
   "cell_type": "markdown",
   "metadata": {},
   "source": [
    "## Author\n",
    "Diego Küster Marqués"
   ]
  },
  {
   "cell_type": "markdown",
   "metadata": {
    "tags": []
   },
   "source": [
    "#### In this notebook, Data Science Tools and Ecosystem are summarized."
   ]
  },
  {
   "cell_type": "markdown",
   "metadata": {},
   "source": [
    "### Objectives:\n",
    "1. List popular languages for Data Science\n",
    "2. List popular libraries for Data Science\n",
    "3. List popular tools for Data Science\n",
    "4. Arithmetic expressions"
   ]
  },
  {
   "cell_type": "markdown",
   "metadata": {},
   "source": [
    "### Data Science Languages\n",
    "Some of the popular languages that Data Scientists use are:\n",
    "\n",
    "1. **Python**\n",
    "2. **R**\n",
    "3. **SQL**\n",
    "4. **Java**\n",
    "5. **Scala**\n",
    "6. **Julia**\n",
    "7. **SAS**\n",
    "8. **MATLAB**\n",
    "9. **C++**\n"
   ]
  },
  {
   "cell_type": "markdown",
   "metadata": {},
   "source": [
    "### Data Science Libraries\n",
    "Some of the commonly used libraries used by Data Scientists include:\n",
    "\n",
    "Python Libraries\n",
    "1. **Pandas**: Data manipulation and analysis.\n",
    "2. **NumPy**: Support for large, multi-dimensional arrays and matrices.\n",
    "3. **SciPy**: Algorithms and mathematical tools for scientific and technical computing.\n",
    "4. **Matplotlib**: Plotting and data visualization.\n",
    "5. **Seaborn**: Statistical data visualization built on Matplotlib.\n",
    "6. **Scikit-Learn**: Machine learning algorithms.\n",
    "7. **TensorFlow**: Machine learning and deep learning.\n",
    "8. **Keras**: High-level neural networks API, running on top of TensorFlow.\n",
    "9. **PyTorch**: Deep learning framework.\n",
    "\n",
    "R Libraries\n",
    "1. **ggplot2**: Data visualization.\n",
    "2. **dplyr**: Data manipulation.\n",
    "3. **tidyr**: Data tidying.\n",
    "4. **caret**: Machine learning.\n",
    "5. **shiny**: Web applications for data science.\n"
   ]
  },
  {
   "cell_type": "markdown",
   "metadata": {},
   "source": [
    "### Data Science Tools\n",
    "\n",
    "| Tool                | Description                                         | Use Case                          |\n",
    "|---------------------|-----------------------------------------------------|-----------------------------------|\n",
    "| Jupyter Notebook    | Open-source web application                        | Interactive coding, data analysis |\n",
    "| RStudio             | Integrated development environment for R           | Statistical computing, graphics   |\n",
    "| TensorFlow          | Open-source machine learning framework             | Deep learning, AI                 |\n",
    "| Apache Spark        | Unified analytics engine                           | Big data processing               |\n",
    "| Pandas              | Data manipulation and analysis library for Python  | Data wrangling, analysis          |\n",
    "| Matplotlib          | Plotting library for Python                        | Data visualization                |\n",
    "| Scikit-Learn        | Machine learning library for Python                | Predictive data analysis          |\n",
    "| Tableau             | Data visualization software                        | Business intelligence, analytics  |\n",
    "| RapidMiner          | Data science platform                              | Data preparation, machine learning|\n",
    "| KNIME               | Open-source data analytics platform                | Data integration, analytics       |\n"
   ]
  },
  {
   "cell_type": "markdown",
   "metadata": {},
   "source": [
    "### Arithmetic Expression Examples\n",
    "\n",
    "Below are a few examples of evaluating arithmetic expressions in Python.\n",
    "\n",
    "Basic Operators\n",
    "1. **Addition (+)**: Adds two numbers.\n",
    "    - Example: `3 + 5 = 8`\n",
    "2. **Subtraction (-)**: Subtracts one number from another.\n",
    "    - Example: `10 - 4 = 6`\n",
    "3. **Multiplication (*)**: Multiplies two numbers.\n",
    "    - Example: `6 * 7 = 42`\n",
    "4. **Division (/)**: Divides one number by another.\n",
    "    - Example: `20 / 5 = 4`\n",
    "5. **Exponentiation (^ or **)**: Raises one number to the power of another.\n",
    "    - Example: `2 ^ 3 = 8` or `2 ** 3 = 8`\n",
    "6. **Modulus (%)**: Finds the remainder of division of one number by another.\n",
    "    - Example: `10 % 3 = 1`\n",
    "\n",
    "Examples of Arithmetic Expressions\n",
    "- `(2 + 3) * 4 = 20`: Parentheses alter the order of operations, ensuring addition happens before multiplication.\n",
    "- `10 / (2 + 3) = 2`: Division happens after the addition inside the parentheses.\n",
    "- `5 * 3 - 2 = 13`: Multiplication is performed before subtraction according to the order of operations.\n",
    "- `2 ** 3 + 4 = 12`: Exponentiation is performed before addition.\n"
   ]
  },
  {
   "cell_type": "code",
   "execution_count": 4,
   "metadata": {
    "tags": []
   },
   "outputs": [
    {
     "data": {
      "text/plain": [
       "(12, 17)"
      ]
     },
     "execution_count": 4,
     "metadata": {},
     "output_type": "execute_result"
    }
   ],
   "source": [
    "# This a simple arithmetic expression to mutiply then add integers.\n",
    "\n",
    "# Multiplying two numbers\n",
    "multiplication_result = 3 * 4\n",
    "\n",
    "# Adding two numbers\n",
    "addition_result = multiplication_result + 5\n",
    "\n",
    "# Display the results\n",
    "multiplication_result, addition_result\n"
   ]
  },
  {
   "cell_type": "code",
   "execution_count": 5,
   "metadata": {
    "tags": []
   },
   "outputs": [
    {
     "data": {
      "text/plain": [
       "3.3333333333333335"
      ]
     },
     "execution_count": 5,
     "metadata": {},
     "output_type": "execute_result"
    }
   ],
   "source": [
    "# This will convert 200 minutes to hours by diving by 60.\n",
    "\n",
    "# Number of minutes\n",
    "minutes = 200\n",
    "\n",
    "# Conversion factor: 1 hour = 60 minutes\n",
    "hours = minutes / 60\n",
    "\n",
    "# Display the result\n",
    "hours\n"
   ]
  }
 ],
 "metadata": {
  "kernelspec": {
   "display_name": "Python",
   "language": "python",
   "name": "conda-env-python-py"
  },
  "language_info": {
   "codemirror_mode": {
    "name": "ipython",
    "version": 3
   },
   "file_extension": ".py",
   "mimetype": "text/x-python",
   "name": "python",
   "nbconvert_exporter": "python",
   "pygments_lexer": "ipython3",
   "version": "3.7.12"
  }
 },
 "nbformat": 4,
 "nbformat_minor": 4
}
